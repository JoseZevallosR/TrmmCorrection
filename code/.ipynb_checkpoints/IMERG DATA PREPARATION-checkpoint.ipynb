{
 "cells": [
  {
   "cell_type": "code",
   "execution_count": 7,
   "id": "cubic-florida",
   "metadata": {},
   "outputs": [],
   "source": [
    "library(raster)"
   ]
  },
  {
   "cell_type": "code",
   "execution_count": 8,
   "id": "pressing-department",
   "metadata": {},
   "outputs": [],
   "source": [
    "setwd('D:/IMERG/IMERG_FINAL RUN_2000-2019/')"
   ]
  },
  {
   "cell_type": "code",
   "execution_count": 9,
   "id": "touched-receipt",
   "metadata": {},
   "outputs": [],
   "source": [
    "puntos=shapefile('C:/Users/jose/Documents/ILA/TRMMH/estaciones_sin_costa_shape/puntos.shp')"
   ]
  },
  {
   "cell_type": "code",
   "execution_count": 10,
   "id": "anticipated-spoke",
   "metadata": {},
   "outputs": [],
   "source": [
    "precip=c()\n",
    "col_names=NULL\n",
    "for (idx in 2002:2016){\n",
    "    ano=as.character(idx)\n",
    "    name=paste0(ano,'.nc')\n",
    "    IMERG=stack(name)\n",
    "    days=dim(IMERG)[3]\n",
    "    initial_date=paste0(ano,\"-01-01 05:00:00\")\n",
    "    dates=seq(as.POSIXct(initial_date, tz=\"UTC\"), \n",
    "                length.out=days, by='30 min')\n",
    "   \n",
    "    february=IMERG[[which(months(dates)=='Febrero')]]\n",
    "    \n",
    "    pp=extract(february,puntos)\n",
    "    precip=cbind(precip,pp)\n",
    "    \n",
    "    col_names=c(col_names,as.character(dates[months(dates)=='Febrero']))\n",
    "    \n",
    "}"
   ]
  },
  {
   "cell_type": "code",
   "execution_count": 11,
   "id": "biological-domestic",
   "metadata": {},
   "outputs": [],
   "source": [
    "archivo=data.frame(cbind(puntos$x,puntos$y,precip))\n",
    "names(archivo)=c('x','y',col_names)\n",
    "write.table(archivo,'D:/Proyectos_GitHub/TrmmCorrection/data/IMERG_NATIONAL_FEB.csv',sep=',',row.names = F)"
   ]
  },
  {
   "cell_type": "code",
   "execution_count": null,
   "id": "current-emerald",
   "metadata": {},
   "outputs": [],
   "source": []
  }
 ],
 "metadata": {
  "kernelspec": {
   "display_name": "R",
   "language": "R",
   "name": "ir"
  },
  "language_info": {
   "codemirror_mode": "r",
   "file_extension": ".r",
   "mimetype": "text/x-r-source",
   "name": "R",
   "pygments_lexer": "r",
   "version": "3.6.1"
  }
 },
 "nbformat": 4,
 "nbformat_minor": 5
}
