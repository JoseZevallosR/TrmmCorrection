{
 "cells": [
  {
   "cell_type": "code",
   "execution_count": 1,
   "id": "actual-termination",
   "metadata": {},
   "outputs": [
    {
     "name": "stderr",
     "output_type": "stream",
     "text": [
      "Warning message:\n",
      "\"package 'raster' was built under R version 3.6.3\"Loading required package: sp\n",
      "Warning message:\n",
      "\"package 'sp' was built under R version 3.6.3\""
     ]
    }
   ],
   "source": [
    "library(raster)"
   ]
  },
  {
   "cell_type": "code",
   "execution_count": 26,
   "id": "joint-election",
   "metadata": {},
   "outputs": [],
   "source": [
    "gauge_loc=shapefile('C:/Users/jose/Documents/ILA/TRMMH/estaciones_sin_costa_shape/puntos.shp')"
   ]
  },
  {
   "cell_type": "code",
   "execution_count": 69,
   "id": "addressed-computer",
   "metadata": {},
   "outputs": [],
   "source": [
    "extract_month=function(path='D:/TRMM/Marzo',gauge_loc,month_name='Marzo',extention=\"\\\\.nc$\"){\n",
    "    setwd(path)\n",
    "    files=list.files(pattern = extention)\n",
    "    month=stack(files,varname='pcp')\n",
    "    month_value=data.frame(extract(month, gauge_loc))\n",
    "    days=dim(month)[3]\n",
    "    initial_date=paste0(1999,\"-01-01 00:00:00\")\n",
    "    end_date=paste0(2015,\"-12-31 00:21:00\")\n",
    "    dates=seq(as.POSIXct(initial_date, tz=\"UTC\"), \n",
    "                 to=as.POSIXct(end_date, tz=\"UTC\"), by='3 h')\n",
    "    colnames(month_value)=dates[months(dates)==month_name]\n",
    "    archivo=data.frame(cbind(x=puntos$x,y=puntos$y,month_value))\n",
    "    archivo\n",
    "}\n"
   ]
  },
  {
   "cell_type": "markdown",
   "id": "changed-latin",
   "metadata": {},
   "source": [
    "# Marzo"
   ]
  },
  {
   "cell_type": "code",
   "execution_count": 63,
   "id": "choice-grave",
   "metadata": {
    "scrolled": true
   },
   "outputs": [],
   "source": [
    "marzo=extract_month(path = 'D:/TRMM/Marzo',gauge_loc = gauge_loc,month_name = 'Marzo')"
   ]
  },
  {
   "cell_type": "code",
   "execution_count": 66,
   "id": "neural-buyer",
   "metadata": {},
   "outputs": [],
   "source": [
    "write.table(marzo,'D:/Proyectos_GitHub/TrmmCorrection/data/TRMM_NATIONAL_MAR.csv',sep=',',row.names = F)"
   ]
  },
  {
   "cell_type": "markdown",
   "id": "contrary-soviet",
   "metadata": {},
   "source": [
    "# Enero"
   ]
  },
  {
   "cell_type": "code",
   "execution_count": null,
   "id": "disturbed-universe",
   "metadata": {},
   "outputs": [],
   "source": [
    "Enero=extract_month(path = 'D:/TRMM/Enero/',gauge_loc = gauge_loc,month_name = 'Enero',extention = \"\\\\.gri$\")"
   ]
  }
 ],
 "metadata": {
  "kernelspec": {
   "display_name": "R",
   "language": "R",
   "name": "ir"
  },
  "language_info": {
   "codemirror_mode": "r",
   "file_extension": ".r",
   "mimetype": "text/x-r-source",
   "name": "R",
   "pygments_lexer": "r",
   "version": "3.6.1"
  }
 },
 "nbformat": 4,
 "nbformat_minor": 5
}
