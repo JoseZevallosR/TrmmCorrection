{
 "cells": [
  {
   "cell_type": "code",
   "execution_count": 2,
   "id": "treated-treatment",
   "metadata": {},
   "outputs": [],
   "source": [
    "library(raster)"
   ]
  },
  {
   "cell_type": "code",
   "execution_count": 3,
   "id": "optimum-setup",
   "metadata": {},
   "outputs": [],
   "source": [
    "setwd('D:/IMERG/IMERG_FINAL RUN_2000-2019/')"
   ]
  },
  {
   "cell_type": "code",
   "execution_count": 4,
   "id": "brilliant-enforcement",
   "metadata": {},
   "outputs": [],
   "source": [
    "puntos=shapefile('C:/Users/jose/Documents/ILA/TRMMH/estaciones_sin_costa_shape/puntos.shp')"
   ]
  },
  {
   "cell_type": "code",
   "execution_count": 6,
   "id": "favorite-minute",
   "metadata": {},
   "outputs": [
    {
     "name": "stderr",
     "output_type": "stream",
     "text": [
      "Loading required namespace: ncdf4\n"
     ]
    }
   ],
   "source": [
    "precip=c()\n",
    "col_names=NULL\n",
    "for (idx in 2002:2016){\n",
    "    ano=as.character(idx)\n",
    "    name=paste0(ano,'.nc')\n",
    "    IMERG=stack(name)\n",
    "    days=dim(IMERG)[3]\n",
    "    initial_date=paste0(ano,\"-01-01 05:00:00\")\n",
    "    dates=seq(as.POSIXct(initial_date, tz=\"UTC\"), \n",
    "                length.out=days, by='30 min')\n",
    "   \n",
    "    february=IMERG[[which(months(dates)=='Febrero')]]\n",
    "    \n",
    "    #file=paste0(\"D:/IMERG/febrero/\",name)\n",
    "    #writeRaster(february,file,overwrite=T)\n",
    "    pp=extract(february,puntos)\n",
    "    precip=cbind(precip,pp)\n",
    "    \n",
    "    col_names=c(col_names,as.character(dates[months(dates)=='Febrero']))\n",
    "    \n",
    "}"
   ]
  },
  {
   "cell_type": "code",
   "execution_count": null,
   "id": "falling-invitation",
   "metadata": {},
   "outputs": [],
   "source": [
    "archivo=data.frame(cbind(puntos$x,puntos$y,precip))\n",
    "names(archivo)=c('x','y',col_names)\n",
    "write.table(archivo,'C:/Users/jose/Documents/ILA/TRMMH/datos_base/IMERG_NATIONAL_FEB.csv',sep=',',row.names = F)"
   ]
  }
 ],
 "metadata": {
  "kernelspec": {
   "display_name": "R",
   "language": "R",
   "name": "ir"
  },
  "language_info": {
   "codemirror_mode": "r",
   "file_extension": ".r",
   "mimetype": "text/x-r-source",
   "name": "R",
   "pygments_lexer": "r",
   "version": "3.6.1"
  }
 },
 "nbformat": 4,
 "nbformat_minor": 5
}
