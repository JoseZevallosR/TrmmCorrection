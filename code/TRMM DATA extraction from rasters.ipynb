{
 "cells": [
  {
   "cell_type": "code",
   "execution_count": 2,
   "id": "settled-shoulder",
   "metadata": {},
   "outputs": [],
   "source": [
    "library(raster)"
   ]
  },
  {
   "cell_type": "code",
   "execution_count": 3,
   "id": "adjusted-flexibility",
   "metadata": {},
   "outputs": [],
   "source": [
    "gauge_loc=shapefile('C:/Users/jose/Documents/ILA/TRMMH/estaciones_sin_costa_shape/puntos.shp')"
   ]
  },
  {
   "cell_type": "code",
   "execution_count": 4,
   "id": "alternative-effects",
   "metadata": {},
   "outputs": [],
   "source": [
    "extract_month=function(path='D:/TRMM/Marzo',gauge_loc,month_name='Marzo',extention=\"\\\\.nc$\"){\n",
    "    setwd(path)\n",
    "    files=list.files(pattern = extention)\n",
    "    month=stack(files,varname='pcp')\n",
    "    month_value=data.frame(extract(month, gauge_loc))\n",
    "    days=dim(month)[3]\n",
    "    initial_date=paste0(1999,\"-01-01 00:00:00\")\n",
    "    end_date=paste0(2015,\"-12-31 00:21:00\")\n",
    "    dates=seq(as.POSIXct(initial_date, tz=\"UTC\"), \n",
    "                 to=as.POSIXct(end_date, tz=\"UTC\"), by='3 h')\n",
    "    colnames(month_value)=dates[months(dates)==month_name]\n",
    "    archivo=data.frame(cbind(x=puntos$x,y=puntos$y,month_value))\n",
    "    archivo\n",
    "}\n"
   ]
  },
  {
   "cell_type": "markdown",
   "id": "detected-likelihood",
   "metadata": {},
   "source": [
    "# Marzo"
   ]
  },
  {
   "cell_type": "code",
   "execution_count": 63,
   "id": "incorrect-marketing",
   "metadata": {
    "scrolled": true
   },
   "outputs": [],
   "source": [
    "marzo=extract_month(path = 'D:/TRMM/Marzo',gauge_loc = gauge_loc,month_name = 'Marzo')"
   ]
  },
  {
   "cell_type": "code",
   "execution_count": 66,
   "id": "opening-importance",
   "metadata": {},
   "outputs": [],
   "source": [
    "write.table(marzo,'D:/Proyectos_GitHub/TrmmCorrection/data/TRMM_NATIONAL_MAR.csv',sep=',',row.names = F)"
   ]
  },
  {
   "cell_type": "markdown",
   "id": "german-builder",
   "metadata": {},
   "source": [
    "# Enero"
   ]
  },
  {
   "cell_type": "code",
   "execution_count": 8,
   "id": "incomplete-factor",
   "metadata": {},
   "outputs": [],
   "source": [
    "extract_month=function(path='D:/TRMM/Marzo',gauge_loc,month_name='Marzo',extention=\"\\\\.nc$\"){\n",
    "    setwd(path)\n",
    "    files=list.files(pattern = extention)\n",
    "    month=stack(files)\n",
    "    month_value=data.frame(extract(month, gauge_loc))\n",
    "    days=dim(month)[3]\n",
    "    initial_date=paste0(1999,\"-01-01 00:00:00\")\n",
    "    end_date=paste0(2014,\"-12-31 00:21:00\")\n",
    "    dates=seq(as.POSIXct(initial_date, tz=\"UTC\"), \n",
    "                 to=as.POSIXct(end_date, tz=\"UTC\"), by='3 h')\n",
    "    colnames(month_value)=dates[months(dates)==month_name][1:dim(month_value)[2]]\n",
    "    archivo=data.frame(cbind(x=gauge_loc$x,y=gauge_loc$y,month_value))\n",
    "    archivo\n",
    "}\n"
   ]
  },
  {
   "cell_type": "code",
   "execution_count": 73,
   "id": "about-paris",
   "metadata": {},
   "outputs": [],
   "source": [
    "Enero=extract_month(path = 'D:/TRMM/Enero/',gauge_loc = gauge_loc,month_name = 'Enero',extention = \"\\\\.grd$\")"
   ]
  },
  {
   "cell_type": "code",
   "execution_count": 75,
   "id": "catholic-cabin",
   "metadata": {},
   "outputs": [],
   "source": [
    "write.table(Enero,'D:/Proyectos_GitHub/TrmmCorrection/data/TRMM_NATIONAL_ENE.csv',sep=',',row.names = F)"
   ]
  },
  {
   "cell_type": "markdown",
   "id": "sixth-secret",
   "metadata": {},
   "source": [
    "# Agosto"
   ]
  },
  {
   "cell_type": "code",
   "execution_count": 9,
   "id": "standing-villa",
   "metadata": {},
   "outputs": [],
   "source": [
    "Agosto=extract_month(path = 'D:/TRMM/Agosto/',gauge_loc = gauge_loc,month_name = 'Agosto',extention = \"\\\\.grd$\")"
   ]
  },
  {
   "cell_type": "code",
   "execution_count": 10,
   "id": "modular-stereo",
   "metadata": {},
   "outputs": [],
   "source": [
    "write.table(Agosto,'D:/Proyectos_GitHub/TrmmCorrection/data/TRMM_NATIONAL_AGO.csv',sep=',',row.names = F)"
   ]
  },
  {
   "cell_type": "markdown",
   "id": "together-guess",
   "metadata": {},
   "source": [
    "# Julio"
   ]
  },
  {
   "cell_type": "code",
   "execution_count": 89,
   "id": "therapeutic-techno",
   "metadata": {},
   "outputs": [],
   "source": [
    "Julio=extract_month(path = 'D:/TRMM/Julio/',gauge_loc = gauge_loc,month_name = 'Julio',extention = \"\\\\.grd$\")"
   ]
  },
  {
   "cell_type": "code",
   "execution_count": 90,
   "id": "seeing-joshua",
   "metadata": {},
   "outputs": [],
   "source": [
    "write.table(Julio,'D:/Proyectos_GitHub/TrmmCorrection/data/TRMM_NATIONAL_JUL.csv',sep=',',row.names = F)"
   ]
  },
  {
   "cell_type": "code",
   "execution_count": null,
   "id": "progressive-integral",
   "metadata": {},
   "outputs": [],
   "source": []
  }
 ],
 "metadata": {
  "kernelspec": {
   "display_name": "R",
   "language": "R",
   "name": "ir"
  },
  "language_info": {
   "codemirror_mode": "r",
   "file_extension": ".r",
   "mimetype": "text/x-r-source",
   "name": "R",
   "pygments_lexer": "r",
   "version": "3.6.1"
  }
 },
 "nbformat": 4,
 "nbformat_minor": 5
}
